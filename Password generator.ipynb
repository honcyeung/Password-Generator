{
 "cells": [
  {
   "cell_type": "code",
   "execution_count": 5,
   "id": "0b84985b",
   "metadata": {},
   "outputs": [],
   "source": [
    "import random\n",
    "import numpy as np\n",
    "\n",
    "letters = ['a', 'b', 'c', 'd', 'e', 'f', 'g', 'h', 'i', 'j', 'k', 'l', 'm', 'n', 'o', 'p', 'q', 'r', 's', 't', 'u', 'v', 'w', 'x', 'y', 'z', 'A', 'B', 'C', 'D', 'E', 'F', 'G', 'H', 'I', 'J', 'K', 'L', 'M', 'N', 'O', 'P', 'Q', 'R', 'S', 'T', 'U', 'V', 'W', 'X', 'Y', 'Z']\n",
    "numbers = ['0', '1', '2', '3', '4', '5', '6', '7', '8', '9']\n",
    "symbols = ['!', '#', '$', '%', '&', '(', ')', '*', '+']"
   ]
  },
  {
   "cell_type": "code",
   "execution_count": 8,
   "id": "55c0e403",
   "metadata": {},
   "outputs": [
    {
     "name": "stdout",
     "output_type": "stream",
     "text": [
      "How many letters would you like in your password?\n",
      "5\n",
      "How many symbols would you like?\n",
      "4\n",
      "How many numbers would you like?\n",
      "6\n",
      "Your password is &&70)B4s8!O12Qg\n"
     ]
    }
   ],
   "source": [
    "try:\n",
    "    nr_letters = int(input(\"How many letters would you like in your password?\\n\")) \n",
    "    nr_symbols = int(input(\"How many symbols would you like?\\n\"))\n",
    "    nr_numbers = int(input(\"How many numbers would you like?\\n\"))\n",
    "\n",
    "    l, n, s = [], [], []\n",
    "    for _ in range(nr_letters):\n",
    "        l.extend(random.choice(letters))\n",
    "    for _ in range(nr_symbols):\n",
    "        s.extend(random.choice(symbols))\n",
    "    for _ in range(nr_numbers):\n",
    "        n.extend(random.choice(numbers))\n",
    "    \n",
    "    password = l+s+n\n",
    "    password = np.random.permutation(password)\n",
    "    password = ''.join(password)\n",
    "    print(f'Your password is {password}')\n",
    "    \n",
    "except ValueError as e:\n",
    "    print(e)"
   ]
  }
 ],
 "metadata": {
  "kernelspec": {
   "display_name": "Python 3",
   "language": "python",
   "name": "python3"
  },
  "language_info": {
   "codemirror_mode": {
    "name": "ipython",
    "version": 3
   },
   "file_extension": ".py",
   "mimetype": "text/x-python",
   "name": "python",
   "nbconvert_exporter": "python",
   "pygments_lexer": "ipython3",
   "version": "3.8.11"
  }
 },
 "nbformat": 4,
 "nbformat_minor": 5
}
